{
 "cells": [
  {
   "cell_type": "code",
   "execution_count": 5,
   "metadata": {},
   "outputs": [],
   "source": [
    "from langchain_community.graphs import Neo4jGraph"
   ]
  },
  {
   "cell_type": "markdown",
   "metadata": {},
   "source": [
    "## Docker Command To run neo4j\n",
    "\n",
    "```\n",
    "docker run \\\n",
    "   --name neo4j \\\n",
    "   -p 7473:7473 -p 7474:7474 -p 7687:7687 \\\n",
    "   -v /Users/supakornemchananon/workspace/Personal/Advanced-QA-and-RAG-Series/KnowledgeGraph-Q&A-and-RAG-with-TabularData/data:/import \\\n",
    "   -e NEO4J_AUTH=neo4j/12345678 \\\n",
    "   -e NEO4JLABS_PLUGINS='[\"apoc\", \"apoc-extended\"]' \\\n",
    "   -e NEO4J_dbms_security_procedures_unrestricted=\"apoc.*,apoc-extended.*\" \\\n",
    "   neo4j:latest\n",
    "```"
   ]
  },
  {
   "cell_type": "code",
   "execution_count": 6,
   "metadata": {},
   "outputs": [],
   "source": [
    "NEO4J_URI = \"bolt://localhost:7687\"\n",
    "NEO4J_USERNAME = \"neo4j\"\n",
    "NEO4J_PASSWORD = \"12345678\"\n",
    "NEO4J_DATABASE = \"neo4j\""
   ]
  },
  {
   "cell_type": "code",
   "execution_count": 8,
   "metadata": {},
   "outputs": [],
   "source": [
    "graph = Neo4jGraph(url=NEO4J_URI, username=NEO4J_USERNAME, password=NEO4J_PASSWORD, database=NEO4J_DATABASE)"
   ]
  },
  {
   "cell_type": "code",
   "execution_count": 9,
   "metadata": {},
   "outputs": [
    {
     "data": {
      "text/plain": [
       "[]"
      ]
     },
     "execution_count": 9,
     "metadata": {},
     "output_type": "execute_result"
    }
   ],
   "source": [
    "# Delete everything in a database\n",
    "cypher = \"\"\"\n",
    "MATCH (n)\n",
    "DETACH DELETE n\n",
    "\"\"\"\n",
    "graph.query(cypher)"
   ]
  }
 ],
 "metadata": {
  "kernelspec": {
   "display_name": "playaround",
   "language": "python",
   "name": "python3"
  },
  "language_info": {
   "codemirror_mode": {
    "name": "ipython",
    "version": 3
   },
   "file_extension": ".py",
   "mimetype": "text/x-python",
   "name": "python",
   "nbconvert_exporter": "python",
   "pygments_lexer": "ipython3",
   "version": "3.12.4"
  }
 },
 "nbformat": 4,
 "nbformat_minor": 2
}
