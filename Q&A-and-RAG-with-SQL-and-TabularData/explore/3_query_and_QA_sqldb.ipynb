{
 "cells": [
  {
   "cell_type": "markdown",
   "metadata": {},
   "source": [
    "https://python.langchain.com/docs/use_cases/sql/quickstart/"
   ]
  },
  {
   "cell_type": "markdown",
   "metadata": {},
   "source": [
    "### **Test the sqldb**"
   ]
  },
  {
   "cell_type": "code",
   "execution_count": 2,
   "metadata": {},
   "outputs": [],
   "source": [
    "from langchain_community.utilities import SQLDatabase\n",
    "from pyprojroot import here\n",
    "import warnings\n",
    "warnings.filterwarnings(\"ignore\")"
   ]
  },
  {
   "cell_type": "markdown",
   "metadata": {},
   "source": [
    "**Connecting to the sqldb**"
   ]
  },
  {
   "cell_type": "code",
   "execution_count": 7,
   "metadata": {},
   "outputs": [],
   "source": [
    "db_path = str(here(\"data\")) + \"/sqldb.db\"\n",
    "db = SQLDatabase.from_uri(f\"sqlite:///{db_path}\")"
   ]
  },
  {
   "cell_type": "code",
   "execution_count": 8,
   "metadata": {},
   "outputs": [
    {
     "data": {
      "text/plain": [
       "<langchain_community.utilities.sql_database.SQLDatabase at 0x109fd65a0>"
      ]
     },
     "execution_count": 8,
     "metadata": {},
     "output_type": "execute_result"
    }
   ],
   "source": [
    "db"
   ]
  },
  {
   "cell_type": "code",
   "execution_count": null,
   "metadata": {},
   "outputs": [],
   "source": [
    "# validate the connection to the vectordb\n",
    "print(db.dialect)\n",
    "print(db.get_usable_table_names())\n",
    "db.run(\"SELECT * FROM Artist LIMIT 10;\")"
   ]
  },
  {
   "cell_type": "markdown",
   "metadata": {},
   "source": [
    "### **Test the access to the environment variables**"
   ]
  },
  {
   "cell_type": "code",
   "execution_count": 3,
   "metadata": {},
   "outputs": [
    {
     "name": "stdout",
     "output_type": "stream",
     "text": [
      "Environment variables are loaded: True\n",
      "test by reading a variable: 2024-05-01-preview\n",
      "test by reading a variable: https://cogopenaiscgjwdllmchat1.openai.azure.com/\n",
      "test by reading a variable: dc1475322fbf4c07a1469f57242f14b5\n",
      "test by reading a variable: azure\n"
     ]
    }
   ],
   "source": [
    "from dotenv import load_dotenv\n",
    "import os\n",
    "\n",
    "here(\".env\")\n",
    "print(\"Environment variables are loaded:\", load_dotenv(dotenv_path=here(\".env\")))\n",
    "print(\"test by reading a variable:\", os.getenv(\"OPENAI_API_VERSION\"))\n",
    "print(\"test by reading a variable:\", os.getenv(\"OPENAI_API_BASE\"))\n",
    "print(\"test by reading a variable:\", os.getenv(\"OPENAI_API_KEY\"))\n",
    "print(\"test by reading a variable:\", os.getenv(\"OPENAI_API_TYPE\"))"
   ]
  },
  {
   "cell_type": "markdown",
   "metadata": {},
   "source": [
    "### **Test your GPT model**"
   ]
  },
  {
   "cell_type": "code",
   "execution_count": null,
   "metadata": {},
   "outputs": [],
   "source": [
    "from openai import AzureOpenAI\n",
    "\n",
    "messages = [{\"role\": \"system\", \"content\": str(\"You are a helpful assistant\")}, {\"role\": \"user\", \"content\": str(\"hello\")}]\n",
    "client = AzureOpenAI(\n",
    "    api_version=os.getenv(\"OPENAI_API_VERSION\"),\n",
    "    azure_endpoint=os.getenv(\"OPENAI_API_BASE\"),\n",
    "    api_key=os.getenv(\"OPENAI_API_KEY\"),\n",
    ")\n",
    "\n",
    "response = client.chat.completions.create(model=\"gpt-35-turbo\", messages=messages)\n",
    "print(response.choices[0].message.content)"
   ]
  },
  {
   "cell_type": "markdown",
   "metadata": {},
   "source": [
    "### **1. SQL query chain**"
   ]
  },
  {
   "cell_type": "code",
   "execution_count": 28,
   "metadata": {},
   "outputs": [],
   "source": [
    "# Load the LLM\n",
    "from langchain_community.chat_models import AzureChatOpenAI\n",
    "\n",
    "model_name = \"gpt-35-turbo\"\n",
    "azure_openai_api_key = os.environ[\"OPENAI_API_KEY\"]\n",
    "azure_openai_endpoint = os.environ[\"OPENAI_API_BASE\"]\n",
    "llm = AzureChatOpenAI(openai_api_version=os.getenv(\"OPENAI_API_VERSION\"), azure_deployment=model_name, model_name=model_name, temperature=0.0)"
   ]
  },
  {
   "cell_type": "code",
   "execution_count": 29,
   "metadata": {},
   "outputs": [],
   "source": [
    "from langchain.chains import create_sql_query_chain\n",
    "\n",
    "chain = create_sql_query_chain(llm, db)\n",
    "response = chain.invoke({\"question\": \"How many employees are there\"})"
   ]
  },
  {
   "cell_type": "markdown",
   "metadata": {},
   "source": [
    "Execute the query to make sure it’s valid"
   ]
  },
  {
   "cell_type": "code",
   "execution_count": 26,
   "metadata": {},
   "outputs": [
    {
     "name": "stdout",
     "output_type": "stream",
     "text": [
      "You are a SQLite expert. Given an input question, first create a syntactically correct SQLite query to run, then look at the results of the query and return the answer to the input question.\n",
      "Unless the user specifies in the question a specific number of examples to obtain, query for at most 5 results using the LIMIT clause as per SQLite. You can order the results to return the most informative data in the database.\n",
      "Never query for all columns from a table. You must query only the columns that are needed to answer the question. Wrap each column name in double quotes (\") to denote them as delimited identifiers.\n",
      "Pay attention to use only the column names you can see in the tables below. Be careful to not query for columns that do not exist. Also, pay attention to which column is in which table.\n",
      "Pay attention to use date('now') function to get the current date, if the question involves \"today\".\n",
      "\n",
      "Use the following format:\n",
      "\n",
      "Question: Question here\n",
      "SQLQuery: SQL Query to run\n",
      "SQLResult: Result of the SQLQuery\n",
      "Answer: Final answer here\n",
      "\n",
      "Only use the following tables:\n",
      "\u001b[33;1m\u001b[1;3m{table_info}\u001b[0m\n",
      "\n",
      "Question: \u001b[33;1m\u001b[1;3m{input}\u001b[0m\n"
     ]
    }
   ],
   "source": [
    "chain.get_prompts()[0].pretty_print()"
   ]
  },
  {
   "cell_type": "code",
   "execution_count": 36,
   "metadata": {},
   "outputs": [
    {
     "name": "stdout",
     "output_type": "stream",
     "text": [
      "\n",
      "You are a SQLite expert.\n",
      "You will only respond to the Query commands from the User Question without explaining anything.\n",
      "\n",
      "Use the following format:\n",
      "\n",
      "Question: Question here\n",
      "SQLQuery: SQL Query to run\n",
      "SQLResult: Result of the SQLQuery\n",
      "Answer: Final answer here\n",
      "\n",
      "Only use the following tables:\n",
      "Tables:Album,Artist,Customer,Employee,Genre,Invoice,InvoiceLine,MediaType,Playlist,PlaylistTrack,TrackInformation for table: AlbumSchema: ['main']Column: AlbumId Type: INTEGERColumn: Title Type: NVARCHAR(160)Column: ArtistId Type: INTEGERPrimary Key Constraint: {'constrained_columns': ['AlbumId'], 'name': None}Foreign Keys: [{'name': None, 'constrained_columns': ['ArtistId'], 'referred_schema': None, 'referred_table': 'Artist', 'referred_columns': ['ArtistId'], 'options': {}}]Information for table: ArtistSchema: ['main']Column: ArtistId Type: INTEGERColumn: Name Type: NVARCHAR(120)Primary Key Constraint: {'constrained_columns': ['ArtistId'], 'name': None}Foreign Keys: []Information for table: CustomerSchema: ['main']Column: CustomerId Type: INTEGERColumn: FirstName Type: NVARCHAR(40)Column: LastName Type: NVARCHAR(20)Column: Company Type: NVARCHAR(80)Column: Address Type: NVARCHAR(70)Column: City Type: NVARCHAR(40)Column: State Type: NVARCHAR(40)Column: Country Type: NVARCHAR(40)Column: PostalCode Type: NVARCHAR(10)Column: Phone Type: NVARCHAR(24)Column: Fax Type: NVARCHAR(24)Column: Email Type: NVARCHAR(60)Column: SupportRepId Type: INTEGERPrimary Key Constraint: {'constrained_columns': ['CustomerId'], 'name': None}Foreign Keys: [{'name': None, 'constrained_columns': ['SupportRepId'], 'referred_schema': None, 'referred_table': 'Employee', 'referred_columns': ['EmployeeId'], 'options': {}}]Information for table: EmployeeSchema: ['main']Column: EmployeeId Type: INTEGERColumn: LastName Type: NVARCHAR(20)Column: FirstName Type: NVARCHAR(20)Column: Title Type: NVARCHAR(30)Column: ReportsTo Type: INTEGERColumn: BirthDate Type: DATETIMEColumn: HireDate Type: DATETIMEColumn: Address Type: NVARCHAR(70)Column: City Type: NVARCHAR(40)Column: State Type: NVARCHAR(40)Column: Country Type: NVARCHAR(40)Column: PostalCode Type: NVARCHAR(10)Column: Phone Type: NVARCHAR(24)Column: Fax Type: NVARCHAR(24)Column: Email Type: NVARCHAR(60)Primary Key Constraint: {'constrained_columns': ['EmployeeId'], 'name': None}Foreign Keys: [{'name': None, 'constrained_columns': ['ReportsTo'], 'referred_schema': None, 'referred_table': 'Employee', 'referred_columns': ['EmployeeId'], 'options': {}}]Information for table: GenreSchema: ['main']Column: GenreId Type: INTEGERColumn: Name Type: NVARCHAR(120)Primary Key Constraint: {'constrained_columns': ['GenreId'], 'name': None}Foreign Keys: []Information for table: InvoiceSchema: ['main']Column: InvoiceId Type: INTEGERColumn: CustomerId Type: INTEGERColumn: InvoiceDate Type: DATETIMEColumn: BillingAddress Type: NVARCHAR(70)Column: BillingCity Type: NVARCHAR(40)Column: BillingState Type: NVARCHAR(40)Column: BillingCountry Type: NVARCHAR(40)Column: BillingPostalCode Type: NVARCHAR(10)Column: Total Type: NUMERIC(10, 2)Primary Key Constraint: {'constrained_columns': ['InvoiceId'], 'name': None}Foreign Keys: [{'name': None, 'constrained_columns': ['CustomerId'], 'referred_schema': None, 'referred_table': 'Customer', 'referred_columns': ['CustomerId'], 'options': {}}]Information for table: InvoiceLineSchema: ['main']Column: InvoiceLineId Type: INTEGERColumn: InvoiceId Type: INTEGERColumn: TrackId Type: INTEGERColumn: UnitPrice Type: NUMERIC(10, 2)Column: Quantity Type: INTEGERPrimary Key Constraint: {'constrained_columns': ['InvoiceLineId'], 'name': None}Foreign Keys: [{'name': None, 'constrained_columns': ['TrackId'], 'referred_schema': None, 'referred_table': 'Track', 'referred_columns': ['TrackId'], 'options': {}}, {'name': None, 'constrained_columns': ['InvoiceId'], 'referred_schema': None, 'referred_table': 'Invoice', 'referred_columns': ['InvoiceId'], 'options': {}}]Information for table: MediaTypeSchema: ['main']Column: MediaTypeId Type: INTEGERColumn: Name Type: NVARCHAR(120)Primary Key Constraint: {'constrained_columns': ['MediaTypeId'], 'name': None}Foreign Keys: []Information for table: PlaylistSchema: ['main']Column: PlaylistId Type: INTEGERColumn: Name Type: NVARCHAR(120)Primary Key Constraint: {'constrained_columns': ['PlaylistId'], 'name': None}Foreign Keys: []Information for table: PlaylistTrackSchema: ['main']Column: PlaylistId Type: INTEGERColumn: TrackId Type: INTEGERPrimary Key Constraint: {'constrained_columns': ['PlaylistId', 'TrackId'], 'name': None}Foreign Keys: [{'name': None, 'constrained_columns': ['TrackId'], 'referred_schema': None, 'referred_table': 'Track', 'referred_columns': ['TrackId'], 'options': {}}, {'name': None, 'constrained_columns': ['PlaylistId'], 'referred_schema': None, 'referred_table': 'Playlist', 'referred_columns': ['PlaylistId'], 'options': {}}]Information for table: TrackSchema: ['main']Column: TrackId Type: INTEGERColumn: Name Type: NVARCHAR(200)Column: AlbumId Type: INTEGERColumn: MediaTypeId Type: INTEGERColumn: GenreId Type: INTEGERColumn: Composer Type: NVARCHAR(220)Column: Milliseconds Type: INTEGERColumn: Bytes Type: INTEGERColumn: UnitPrice Type: NUMERIC(10, 2)Primary Key Constraint: {'constrained_columns': ['TrackId'], 'name': None}Foreign Keys: [{'name': None, 'constrained_columns': ['MediaTypeId'], 'referred_schema': None, 'referred_table': 'MediaType', 'referred_columns': ['MediaTypeId'], 'options': {}}, {'name': None, 'constrained_columns': ['GenreId'], 'referred_schema': None, 'referred_table': 'Genre', 'referred_columns': ['GenreId'], 'options': {}}, {'name': None, 'constrained_columns': ['AlbumId'], 'referred_schema': None, 'referred_table': 'Album', 'referred_columns': ['AlbumId'], 'options': {}}]\n",
      "\n",
      "Question: ใบแจ้งหนี้ทั้งหมดรวมเป็นเงินกี่บาท\n",
      "\n"
     ]
    }
   ],
   "source": [
    "from sqlalchemy import create_engine, inspect\n",
    "\n",
    "# Create an engine that connects to the test.db SQLite database\n",
    "engine = create_engine(f\"sqlite:///{db_path}\")\n",
    "\n",
    "# Connect to the database\n",
    "connection = engine.connect()\n",
    "\n",
    "# Create an inspector object\n",
    "inspector = inspect(engine)\n",
    "\n",
    "# Retrieve the names of all the tables in the database\n",
    "table_names = inspector.get_table_names()\n",
    "db_schema_txt = \"Tables:\" + \",\".join(table_names)\n",
    "\n",
    "# Loop over each table to get detailed information like schema, columns, etc.\n",
    "for table_name in table_names:\n",
    "    db_schema_txt += f\"Information for table: {table_name}\"\n",
    "\n",
    "    # Get the schema of the table (for SQLite, schema is often None)\n",
    "    db_schema_txt += f\"Schema: {inspector.get_schema_names()}\"\n",
    "\n",
    "    # Get the columns and their attributes for each table\n",
    "    columns = inspector.get_columns(table_name)\n",
    "    for column in columns:\n",
    "        db_schema_txt += f\"Column: {column['name']} Type: {column['type']}\"\n",
    "\n",
    "    # Additionally, you can use get_pk_constraint and get_foreign_keys\n",
    "    # methods to retrieve information about primary and foreign keys respectively\n",
    "    pk_constraint = inspector.get_pk_constraint(table_name)\n",
    "    db_schema_txt += f\"Primary Key Constraint: {pk_constraint}\"\n",
    "\n",
    "    foreign_keys = inspector.get_foreign_keys(table_name)\n",
    "    db_schema_txt += f\"Foreign Keys: {foreign_keys}\"\n",
    "\n",
    "\n",
    "db_schema_txt\n",
    "# Do not forget to close the connection when done\n",
    "connection.close()\n",
    "\n",
    "pond_sql_tool_prompt = \"\"\"\n",
    "You are a SQLite expert.\n",
    "You will only respond to the Query commands from the User Question without explaining anything.\n",
    "\n",
    "Use the following format:\n",
    "\n",
    "Question: Question here\n",
    "SQLQuery: SQL Query to run\n",
    "SQLResult: Result of the SQLQuery\n",
    "Answer: Final answer here\n",
    "\n",
    "Only use the following tables:\n",
    "{table_info}\n",
    "\n",
    "Question: {input}\n",
    "\"\"\".format(\n",
    "    table_info=db_schema_txt,\n",
    "    input=\"ใบแจ้งหนี้ทั้งหมดรวมเป็นเงินกี่บาท\",\n",
    ")\n",
    "\n",
    "print(pond_sql_tool_prompt)"
   ]
  },
  {
   "cell_type": "code",
   "execution_count": 39,
   "metadata": {},
   "outputs": [
    {
     "data": {
      "text/plain": [
       "'SQLQuery: SELECT SUM(Total) AS TotalAmount FROM Invoice\\nSQLResult: TotalAmount\\nAnswer: TotalAmount in Baht'"
      ]
     },
     "execution_count": 39,
     "metadata": {},
     "output_type": "execute_result"
    }
   ],
   "source": [
    "response = llm.invoke(pond_sql_tool_prompt)\n",
    "response.content"
   ]
  },
  {
   "cell_type": "markdown",
   "metadata": {},
   "source": [
    "### **Add QuerySQLDataBaseTool to the chain**\n",
    "Execute SQL query\n",
    "\n",
    "**This is the most dangerous part of creating a SQL chain.** Consider carefully if it is OK to run automated queries over your data. Minimize the database connection permissions as much as possible. Consider adding a human approval step to you chains before query execution (see below).\n",
    "\n",
    "We can use the QuerySQLDatabaseTool to easily add query execution to our chain:"
   ]
  },
  {
   "cell_type": "code",
   "execution_count": 51,
   "metadata": {},
   "outputs": [
    {
     "data": {
      "text/plain": [
       "'[(8,)]'"
      ]
     },
     "execution_count": 51,
     "metadata": {},
     "output_type": "execute_result"
    }
   ],
   "source": [
    "from langchain_community.tools.sql_database.tool import QuerySQLDataBaseTool\n",
    "\n",
    "write_query = create_sql_query_chain(llm, db)\n",
    "execute_query = QuerySQLDataBaseTool(db=db)\n",
    "\n",
    "chain = write_query | execute_query\n",
    "\n",
    "chain.invoke({\"question\": \"How many employees are there\"})"
   ]
  },
  {
   "cell_type": "markdown",
   "metadata": {},
   "source": [
    "### **Answer the question in a user friendly manner**"
   ]
  },
  {
   "cell_type": "code",
   "execution_count": 58,
   "metadata": {},
   "outputs": [
    {
     "name": "stdout",
     "output_type": "stream",
     "text": [
      "The total amount in the invoice is $2328.6.\n"
     ]
    }
   ],
   "source": [
    "from operator import itemgetter\n",
    "from langchain_core.output_parsers import StrOutputParser\n",
    "from langchain_core.prompts import PromptTemplate\n",
    "from langchain_core.runnables import RunnablePassthrough\n",
    "\n",
    "answer_prompt = PromptTemplate.from_template(\n",
    "    \"\"\"Given the following user question, corresponding SQL query, and SQL result, answer the user question.\n",
    "\n",
    "Question: {question}\n",
    "SQL Query: {query}\n",
    "SQL Result: {result}\n",
    "Answer: \"\"\"\n",
    ")\n",
    "\n",
    "\n",
    "answer = answer_prompt | llm | StrOutputParser()\n",
    "chain = RunnablePassthrough.assign(query=write_query)\n",
    "chain = chain.assign(result=(itemgetter(\"query\") | execute_query)) | answer\n",
    "print(chain.invoke({\"question\": \"ในใบ invoice รวมทั้งหมดกี่ $\"}))"
   ]
  },
  {
   "cell_type": "markdown",
   "metadata": {},
   "source": [
    "### **2. Agents**\n",
    "\n",
    "Agent which provides a more flexible way of interacting with SQL databases. The main advantages of using the SQL Agent are:\n",
    "\n",
    "- It can answer questions based on the databases’ schema as well as on the databases’ content (like describing a specific table).\n",
    "- It can recover from errors by running a generated query, catching the traceback and regenerating it correctly.\n",
    "- It can answer questions that require multiple dependent queries.\n",
    "- It will save tokens by only considering the schema from relevant tables.\n",
    "\n",
    "To initialize the agent, we use create_sql_agent function. This agent contains the SQLDatabaseToolkit which contains tools to:\n",
    "\n",
    "- Create and execute queries\n",
    "- Check query syntax\n",
    "- Retrieve table descriptions\n",
    "- …"
   ]
  },
  {
   "cell_type": "code",
   "execution_count": 59,
   "metadata": {},
   "outputs": [],
   "source": [
    "from langchain_community.agent_toolkits import create_sql_agent\n",
    "\n",
    "agent_executor = create_sql_agent(llm, db=db, agent_type=\"openai-tools\", verbose=True)"
   ]
  },
  {
   "cell_type": "code",
   "execution_count": 60,
   "metadata": {},
   "outputs": [
    {
     "name": "stdout",
     "output_type": "stream",
     "text": [
      "\n",
      "\n",
      "\u001b[1m> Entering new SQL Agent Executor chain...\u001b[0m\n",
      "\u001b[32;1m\u001b[1;3m\n",
      "Invoking: `sql_db_list_tables` with `{}`\n",
      "\n",
      "\n",
      "\u001b[0m\u001b[38;5;200m\u001b[1;3mAlbum, Artist, Customer, Employee, Genre, Invoice, InvoiceLine, MediaType, Playlist, PlaylistTrack, Track\u001b[0m\u001b[32;1m\u001b[1;3m\n",
      "Invoking: `sql_db_schema` with `{'table_names': 'Invoice,Customer'}`\n",
      "\n",
      "\n",
      "\u001b[0m\u001b[33;1m\u001b[1;3m\n",
      "CREATE TABLE \"Customer\" (\n",
      "\t\"CustomerId\" INTEGER NOT NULL, \n",
      "\t\"FirstName\" NVARCHAR(40) NOT NULL, \n",
      "\t\"LastName\" NVARCHAR(20) NOT NULL, \n",
      "\t\"Company\" NVARCHAR(80), \n",
      "\t\"Address\" NVARCHAR(70), \n",
      "\t\"City\" NVARCHAR(40), \n",
      "\t\"State\" NVARCHAR(40), \n",
      "\t\"Country\" NVARCHAR(40), \n",
      "\t\"PostalCode\" NVARCHAR(10), \n",
      "\t\"Phone\" NVARCHAR(24), \n",
      "\t\"Fax\" NVARCHAR(24), \n",
      "\t\"Email\" NVARCHAR(60) NOT NULL, \n",
      "\t\"SupportRepId\" INTEGER, \n",
      "\tPRIMARY KEY (\"CustomerId\"), \n",
      "\tFOREIGN KEY(\"SupportRepId\") REFERENCES \"Employee\" (\"EmployeeId\")\n",
      ")\n",
      "\n",
      "/*\n",
      "3 rows from Customer table:\n",
      "CustomerId\tFirstName\tLastName\tCompany\tAddress\tCity\tState\tCountry\tPostalCode\tPhone\tFax\tEmail\tSupportRepId\n",
      "1\tLuís\tGonçalves\tEmbraer - Empresa Brasileira de Aeronáutica S.A.\tAv. Brigadeiro Faria Lima, 2170\tSão José dos Campos\tSP\tBrazil\t12227-000\t+55 (12) 3923-5555\t+55 (12) 3923-5566\tluisg@embraer.com.br\t3\n",
      "2\tLeonie\tKöhler\tNone\tTheodor-Heuss-Straße 34\tStuttgart\tNone\tGermany\t70174\t+49 0711 2842222\tNone\tleonekohler@surfeu.de\t5\n",
      "3\tFrançois\tTremblay\tNone\t1498 rue Bélanger\tMontréal\tQC\tCanada\tH2G 1A7\t+1 (514) 721-4711\tNone\tftremblay@gmail.com\t3\n",
      "*/\n",
      "\n",
      "\n",
      "CREATE TABLE \"Invoice\" (\n",
      "\t\"InvoiceId\" INTEGER NOT NULL, \n",
      "\t\"CustomerId\" INTEGER NOT NULL, \n",
      "\t\"InvoiceDate\" DATETIME NOT NULL, \n",
      "\t\"BillingAddress\" NVARCHAR(70), \n",
      "\t\"BillingCity\" NVARCHAR(40), \n",
      "\t\"BillingState\" NVARCHAR(40), \n",
      "\t\"BillingCountry\" NVARCHAR(40), \n",
      "\t\"BillingPostalCode\" NVARCHAR(10), \n",
      "\t\"Total\" NUMERIC(10, 2) NOT NULL, \n",
      "\tPRIMARY KEY (\"InvoiceId\"), \n",
      "\tFOREIGN KEY(\"CustomerId\") REFERENCES \"Customer\" (\"CustomerId\")\n",
      ")\n",
      "\n",
      "/*\n",
      "3 rows from Invoice table:\n",
      "InvoiceId\tCustomerId\tInvoiceDate\tBillingAddress\tBillingCity\tBillingState\tBillingCountry\tBillingPostalCode\tTotal\n",
      "1\t2\t2021-01-01 00:00:00\tTheodor-Heuss-Straße 34\tStuttgart\tNone\tGermany\t70174\t1.98\n",
      "2\t4\t2021-01-02 00:00:00\tUllevålsveien 14\tOslo\tNone\tNorway\t0171\t3.96\n",
      "3\t8\t2021-01-03 00:00:00\tGrétrystraat 63\tBrussels\tNone\tBelgium\t1000\t5.94\n",
      "*/\u001b[0m\u001b[32;1m\u001b[1;3m\n",
      "Invoking: `sql_db_query` with `{'query': 'SELECT BillingCountry AS Country, SUM(Total) AS TotalSales FROM Invoice GROUP BY BillingCountry ORDER BY TotalSales DESC'}`\n",
      "\n",
      "\n",
      "\u001b[0m\u001b[36;1m\u001b[1;3m[('USA', 523.06), ('Canada', 303.96), ('France', 195.1), ('Brazil', 190.1), ('Germany', 156.48), ('United Kingdom', 112.86), ('Czech Republic', 90.24), ('Portugal', 77.24), ('India', 75.26), ('Chile', 46.62), ('Ireland', 45.62), ('Hungary', 45.62), ('Austria', 42.62), ('Finland', 41.62), ('Netherlands', 40.62), ('Norway', 39.62), ('Sweden', 38.62), ('Spain', 37.62), ('Poland', 37.62), ('Italy', 37.62), ('Denmark', 37.62), ('Belgium', 37.62), ('Australia', 37.62), ('Argentina', 37.62)]\u001b[0m\u001b[32;1m\u001b[1;3mThe total sales per country are as follows:\n",
      "1. USA: $523.06\n",
      "2. Canada: $303.96\n",
      "3. France: $195.10\n",
      "4. Brazil: $190.10\n",
      "5. Germany: $156.48\n",
      "6. United Kingdom: $112.86\n",
      "7. Czech Republic: $90.24\n",
      "8. Portugal: $77.24\n",
      "9. India: $75.26\n",
      "10. Chile: $46.62\n",
      "\n",
      "The country whose customers spent the most is the USA, with a total sales amount of $523.06.\u001b[0m\n",
      "\n",
      "\u001b[1m> Finished chain.\u001b[0m\n"
     ]
    },
    {
     "data": {
      "text/plain": [
       "{'input': \"List the total sales per country. Which country's customers spent the most?\",\n",
       " 'output': 'The total sales per country are as follows:\\n1. USA: $523.06\\n2. Canada: $303.96\\n3. France: $195.10\\n4. Brazil: $190.10\\n5. Germany: $156.48\\n6. United Kingdom: $112.86\\n7. Czech Republic: $90.24\\n8. Portugal: $77.24\\n9. India: $75.26\\n10. Chile: $46.62\\n\\nThe country whose customers spent the most is the USA, with a total sales amount of $523.06.'}"
      ]
     },
     "execution_count": 60,
     "metadata": {},
     "output_type": "execute_result"
    }
   ],
   "source": [
    "agent_executor.invoke(\n",
    "    {\n",
    "        \"input\": \"List the total sales per country. Which country's customers spent the most?\"\n",
    "    }\n",
    ")"
   ]
  },
  {
   "cell_type": "code",
   "execution_count": 61,
   "metadata": {},
   "outputs": [
    {
     "name": "stdout",
     "output_type": "stream",
     "text": [
      "\n",
      "\n",
      "\u001b[1m> Entering new SQL Agent Executor chain...\u001b[0m\n",
      "\u001b[32;1m\u001b[1;3m\n",
      "Invoking: `sql_db_list_tables` with `{}`\n",
      "\n",
      "\n",
      "\u001b[0m\u001b[38;5;200m\u001b[1;3mAlbum, Artist, Customer, Employee, Genre, Invoice, InvoiceLine, MediaType, Playlist, PlaylistTrack, Track\u001b[0m\u001b[32;1m\u001b[1;3m\n",
      "Invoking: `sql_db_schema` with `{'table_names': 'PlaylistTrack'}`\n",
      "\n",
      "\n",
      "\u001b[0m\u001b[33;1m\u001b[1;3m\n",
      "CREATE TABLE \"PlaylistTrack\" (\n",
      "\t\"PlaylistId\" INTEGER NOT NULL, \n",
      "\t\"TrackId\" INTEGER NOT NULL, \n",
      "\tPRIMARY KEY (\"PlaylistId\", \"TrackId\"), \n",
      "\tFOREIGN KEY(\"TrackId\") REFERENCES \"Track\" (\"TrackId\"), \n",
      "\tFOREIGN KEY(\"PlaylistId\") REFERENCES \"Playlist\" (\"PlaylistId\")\n",
      ")\n",
      "\n",
      "/*\n",
      "3 rows from PlaylistTrack table:\n",
      "PlaylistId\tTrackId\n",
      "1\t3402\n",
      "1\t3389\n",
      "1\t3390\n",
      "*/\u001b[0m\u001b[32;1m\u001b[1;3mThe `PlaylistTrack` table has two columns: `PlaylistId` and `TrackId`. It represents a many-to-many relationship between playlists and tracks, with each row indicating that a specific track is part of a specific playlist. The table has a composite primary key consisting of both `PlaylistId` and `TrackId`. Additionally, there are foreign key constraints on both `PlaylistId` and `TrackId`, referencing the `Playlist` and `Track` tables respectively. Here are a few sample rows from the `PlaylistTrack` table:\n",
      "\n",
      "| PlaylistId | TrackId |\n",
      "|------------|---------|\n",
      "| 1          | 3402    |\n",
      "| 1          | 3389    |\n",
      "| 1          | 3390    |\n",
      "\n",
      "If you have any specific questions about this table, feel free to ask!\u001b[0m\n",
      "\n",
      "\u001b[1m> Finished chain.\u001b[0m\n"
     ]
    },
    {
     "data": {
      "text/plain": [
       "{'input': 'Describe the playlisttrack table',\n",
       " 'output': 'The `PlaylistTrack` table has two columns: `PlaylistId` and `TrackId`. It represents a many-to-many relationship between playlists and tracks, with each row indicating that a specific track is part of a specific playlist. The table has a composite primary key consisting of both `PlaylistId` and `TrackId`. Additionally, there are foreign key constraints on both `PlaylistId` and `TrackId`, referencing the `Playlist` and `Track` tables respectively. Here are a few sample rows from the `PlaylistTrack` table:\\n\\n| PlaylistId | TrackId |\\n|------------|---------|\\n| 1          | 3402    |\\n| 1          | 3389    |\\n| 1          | 3390    |\\n\\nIf you have any specific questions about this table, feel free to ask!'}"
      ]
     },
     "execution_count": 61,
     "metadata": {},
     "output_type": "execute_result"
    }
   ],
   "source": [
    "agent_executor.invoke({\"input\": \"Describe the playlisttrack table\"})"
   ]
  }
 ],
 "metadata": {
  "kernelspec": {
   "display_name": "sql-rag-gpt",
   "language": "python",
   "name": "python3"
  },
  "language_info": {
   "codemirror_mode": {
    "name": "ipython",
    "version": 3
   },
   "file_extension": ".py",
   "mimetype": "text/x-python",
   "name": "python",
   "nbconvert_exporter": "python",
   "pygments_lexer": "ipython3",
   "version": "3.12.4"
  }
 },
 "nbformat": 4,
 "nbformat_minor": 2
}
